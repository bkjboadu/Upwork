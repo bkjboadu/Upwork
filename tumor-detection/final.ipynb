{
 "cells": [
  {
   "cell_type": "code",
   "execution_count": 1,
   "metadata": {},
   "outputs": [],
   "source": [
    "import numpy as np\n",
    "import matplotlib.pyplot as plt\n",
    "import tensorflow as tf\n",
    "import cv2\n",
    "import os\n",
    "from pathlib import Path\n",
    "import albumentations as A\n",
    "from sklearn.model_selection import train_test_split\n",
    "import shutil\n",
    "from tensorflow.keras.layers import Dense,GlobalAveragePooling2D\n",
    "from tensorflow.keras.models import Model,load_model"
   ]
  },
  {
   "cell_type": "code",
   "execution_count": 2,
   "metadata": {},
   "outputs": [],
   "source": [
    "dll_directory = r'C:\\Users\\bkj\\Downloads\\openslide-win64-20231011\\bin'\n",
    "os.add_dll_directory(dll_directory)\n",
    "import openslide\n"
   ]
  },
  {
   "cell_type": "code",
   "execution_count": 3,
   "metadata": {},
   "outputs": [],
   "source": [
    "import openslide\n",
    "\n",
    "# Replace 'path/to/your/image.svs' with the actual path to your .svs file\n",
    "slide_path = 'svs_file/DI-MH-226-07.svs'\n",
    "slide = openslide.open_slide(slide_path)\n",
    "\n",
    "# Get basic information about the slide\n",
    "slide_info = {\n",
    "    'level_count': slide.level_count,\n",
    "    'level_dimensions': [slide.level_dimensions[i] for i in range(slide.level_count)],\n",
    "    'level_downsamples': [slide.level_downsamples[i] for i in range(slide.level_count)],\n",
    "}\n"
   ]
  },
  {
   "cell_type": "code",
   "execution_count": null,
   "metadata": {},
   "outputs": [],
   "source": [
    "def extract_patches(slide, level=0, patch_size=(256, 256), stride=(128, 128)):\n",
    "    width, height = slide.level_dimensions[level]\n",
    "    stride_x, stride_y = stride\n",
    "    patch_x, patch_y = patch_size\n",
    "\n",
    "    patches = []\n",
    "    for y in range(0, height - patch_y, stride_y):\n",
    "        for x in range(0, width - patch_x, stride_x):\n",
    "            region = slide.read_region((x, y), level, patch_size)\n",
    "            patch = np.array(region.convert('RGB'))\n",
    "            patches.append(patch)\n",
    "\n",
    "    return np.array(patches)\n",
    "\n",
    "# Example usage\n",
    "patches = extract_patches(slide, level=0, patch_size=(256, 256), stride=(128, 128))"
   ]
  },
  {
   "cell_type": "code",
   "execution_count": 7,
   "metadata": {},
   "outputs": [],
   "source": [
    "def patch_generator(slide, level=1, patch_size=(256, 256), stride=(128, 128)):\n",
    "    width, height = slide.level_dimensions[level]\n",
    "    for y in range(0, height - patch_size[1], stride[1]):\n",
    "        for x in range(0, width - patch_size[0], stride[0]):\n",
    "            region = slide.read_region((x, y), level, patch_size)\n",
    "            patch = np.array(region.convert('RGB'))\n",
    "            yield patch\n",
    "\n",
    "patch_size = (128, 128)\n",
    "stride = (64, 64)\n",
    "patch_gen = patch_generator(slide, level=0, patch_size=patch_size, stride=stride)\n"
   ]
  },
  {
   "cell_type": "code",
   "execution_count": 8,
   "metadata": {},
   "outputs": [
    {
     "data": {
      "text/plain": [
       "array([[[244, 244, 244],\n",
       "        [244, 244, 244],\n",
       "        [244, 244, 244],\n",
       "        ...,\n",
       "        [244, 244, 244],\n",
       "        [244, 244, 244],\n",
       "        [244, 244, 244]],\n",
       "\n",
       "       [[244, 244, 244],\n",
       "        [244, 244, 244],\n",
       "        [244, 244, 244],\n",
       "        ...,\n",
       "        [244, 244, 244],\n",
       "        [244, 244, 244],\n",
       "        [244, 244, 244]],\n",
       "\n",
       "       [[244, 244, 244],\n",
       "        [244, 244, 244],\n",
       "        [244, 244, 244],\n",
       "        ...,\n",
       "        [244, 244, 244],\n",
       "        [244, 244, 244],\n",
       "        [244, 244, 244]],\n",
       "\n",
       "       ...,\n",
       "\n",
       "       [[244, 244, 244],\n",
       "        [244, 244, 244],\n",
       "        [244, 244, 244],\n",
       "        ...,\n",
       "        [244, 244, 244],\n",
       "        [244, 244, 244],\n",
       "        [244, 244, 244]],\n",
       "\n",
       "       [[244, 244, 244],\n",
       "        [244, 244, 244],\n",
       "        [244, 244, 244],\n",
       "        ...,\n",
       "        [244, 244, 244],\n",
       "        [244, 244, 244],\n",
       "        [244, 244, 244]],\n",
       "\n",
       "       [[244, 244, 244],\n",
       "        [244, 244, 244],\n",
       "        [244, 244, 244],\n",
       "        ...,\n",
       "        [244, 244, 244],\n",
       "        [244, 244, 244],\n",
       "        [244, 244, 244]]], dtype=uint8)"
      ]
     },
     "execution_count": 8,
     "metadata": {},
     "output_type": "execute_result"
    }
   ],
   "source": [
    "x = next(patch_gen)\n",
    "x"
   ]
  },
  {
   "cell_type": "code",
   "execution_count": 9,
   "metadata": {},
   "outputs": [
    {
     "data": {
      "text/plain": [
       "<matplotlib.image.AxesImage at 0x1ab6c57ef10>"
      ]
     },
     "execution_count": 9,
     "metadata": {},
     "output_type": "execute_result"
    },
    {
     "data": {
      "image/png": "[encoded data removed]",
      "text/plain": [
       "<Figure size 640x480 with 1 Axes>"
      ]
     },
     "metadata": {},
     "output_type": "display_data"
    }
   ],
   "source": [
    "plt.imshow(x/255.0)"
   ]
  },
  {
   "cell_type": "code",
   "execution_count": null,
   "metadata": {},
   "outputs": [],
   "source": []
  },
  {
   "cell_type": "code",
   "execution_count": null,
   "metadata": {},
   "outputs": [],
   "source": []
  },
  {
   "cell_type": "code",
   "execution_count": null,
   "metadata": {},
   "outputs": [],
   "source": []
  },
  {
   "cell_type": "code",
   "execution_count": null,
   "metadata": {},
   "outputs": [],
   "source": []
  },
  {
   "cell_type": "code",
   "execution_count": null,
   "metadata": {},
   "outputs": [],
   "source": []
  },
  {
   "cell_type": "code",
   "execution_count": null,
   "metadata": {},
   "outputs": [],
   "source": []
  },
  {
   "cell_type": "code",
   "execution_count": null,
   "metadata": {},
   "outputs": [],
   "source": []
  },
  {
   "cell_type": "code",
   "execution_count": null,
   "metadata": {},
   "outputs": [],
   "source": []
  },
  {
   "cell_type": "code",
   "execution_count": null,
   "metadata": {},
   "outputs": [],
   "source": []
  },
  {
   "cell_type": "code",
   "execution_count": null,
   "metadata": {},
   "outputs": [],
   "source": []
  },
  {
   "cell_type": "code",
   "execution_count": null,
   "metadata": {},
   "outputs": [],
   "source": []
  },
  {
   "cell_type": "code",
   "execution_count": null,
   "metadata": {},
   "outputs": [],
   "source": []
  },
  {
   "cell_type": "code",
   "execution_count": null,
   "metadata": {},
   "outputs": [],
   "source": []
  },
  {
   "cell_type": "code",
   "execution_count": null,
   "metadata": {},
   "outputs": [],
   "source": []
  },
  {
   "cell_type": "code",
   "execution_count": null,
   "metadata": {},
   "outputs": [],
   "source": []
  },
  {
   "cell_type": "code",
   "execution_count": null,
   "metadata": {},
   "outputs": [],
   "source": []
  },
  {
   "cell_type": "code",
   "execution_count": null,
   "metadata": {},
   "outputs": [],
   "source": []
  },
  {
   "cell_type": "code",
   "execution_count": null,
   "metadata": {},
   "outputs": [],
   "source": []
  },
  {
   "cell_type": "code",
   "execution_count": null,
   "metadata": {},
   "outputs": [],
   "source": []
  },
  {
   "cell_type": "code",
   "execution_count": null,
   "metadata": {},
   "outputs": [],
   "source": []
  },
  {
   "cell_type": "code",
   "execution_count": null,
   "metadata": {},
   "outputs": [],
   "source": []
  },
  {
   "cell_type": "code",
   "execution_count": null,
   "metadata": {},
   "outputs": [],
   "source": []
  },
  {
   "cell_type": "code",
   "execution_count": null,
   "metadata": {},
   "outputs": [],
   "source": []
  },
  {
   "cell_type": "code",
   "execution_count": null,
   "metadata": {},
   "outputs": [],
   "source": []
  },
  {
   "cell_type": "code",
   "execution_count": null,
   "metadata": {},
   "outputs": [],
   "source": []
  },
  {
   "cell_type": "code",
   "execution_count": null,
   "metadata": {},
   "outputs": [],
   "source": []
  },
  {
   "cell_type": "code",
   "execution_count": null,
   "metadata": {},
   "outputs": [],
   "source": []
  },
  {
   "cell_type": "code",
   "execution_count": null,
   "metadata": {},
   "outputs": [],
   "source": []
  },
  {
   "cell_type": "code",
   "execution_count": null,
   "metadata": {},
   "outputs": [],
   "source": []
  },
  {
   "cell_type": "code",
   "execution_count": null,
   "metadata": {},
   "outputs": [],
   "source": []
  },
  {
   "cell_type": "code",
   "execution_count": null,
   "metadata": {},
   "outputs": [],
   "source": []
  },
  {
   "cell_type": "code",
   "execution_count": null,
   "metadata": {},
   "outputs": [],
   "source": []
  },
  {
   "cell_type": "code",
   "execution_count": null,
   "metadata": {},
   "outputs": [],
   "source": []
  },
  {
   "cell_type": "code",
   "execution_count": null,
   "metadata": {},
   "outputs": [],
   "source": []
  },
  {
   "cell_type": "code",
   "execution_count": null,
   "metadata": {},
   "outputs": [],
   "source": []
  },
  {
   "cell_type": "code",
   "execution_count": null,
   "metadata": {},
   "outputs": [],
   "source": []
  }
 ],
 "metadata": {
  "kernelspec": {
   "display_name": "My Computer-Vison Environment",
   "language": "python",
   "name": "cv-env"
  },
  "language_info": {
   "codemirror_mode": {
    "name": "ipython",
    "version": 3
   },
   "file_extension": ".py",
   "mimetype": "text/x-python",
   "name": "python",
   "nbconvert_exporter": "python",
   "pygments_lexer": "ipython3",
   "version": "3.11.5"
  }
 },
 "nbformat": 4,
 "nbformat_minor": 2
}
