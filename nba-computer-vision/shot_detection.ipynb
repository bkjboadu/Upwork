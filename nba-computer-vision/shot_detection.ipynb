{
 "cells": [
  {
   "cell_type": "markdown",
   "metadata": {},
   "source": [
    "#### INSTALL AND IMPORT DEPENDENCIES"
   ]
  },
  {
   "cell_type": "code",
   "execution_count": 17,
   "metadata": {},
   "outputs": [],
   "source": [
    "import cv2\n",
    "import numpy as np\n",
    "import pandas as pd\n",
    "import os \n",
    "import matplotlib.pyplot as plt\n",
    "import time\n",
    "import mediapipe as mp\n",
    "from pathlib import Path\n",
    "from tensorflow.keras.utils import to_categorical\n",
    "from sklearn.model_selection import train_test_split"
   ]
  },
  {
   "cell_type": "markdown",
   "metadata": {},
   "source": [
    "#### KEYPOINTS WITH MP HOLISTIC\n"
   ]
  },
  {
   "cell_type": "code",
   "execution_count": 3,
   "metadata": {},
   "outputs": [],
   "source": [
    "mp_holistic = mp.solutions.holistic\n",
    "mp_drawing = mp.solutions.drawing_utils\n",
    "mp_drawing_style = mp.solutions.drawing_styles"
   ]
  },
  {
   "cell_type": "code",
   "execution_count": 4,
   "metadata": {},
   "outputs": [],
   "source": [
    "def mediapipe_detection(image,model):\n",
    "    image = cv2.cvtColor(image,cv2.COLOR_BGR2RGB)\n",
    "    image.flags.writeable = False\n",
    "    results = model.process(image)\n",
    "    image.flags.writeable = True\n",
    "    image = cv2.cvtColor(image,cv2.COLOR_RGB2BGR)\n",
    "    return image,results\n"
   ]
  },
  {
   "cell_type": "code",
   "execution_count": 5,
   "metadata": {},
   "outputs": [],
   "source": [
    "cap = cv2.VideoCapture(0)\n",
    "with mp_holistic.Holistic(min_detection_confidence=0.5,min_tracking_confidence=0.5) as holistic:\n",
    "    while cap.isOpened():\n",
    "        ret,frame = cap.read()\n",
    "        if not ret:\n",
    "            break\n",
    "\n",
    "        frame,results = mediapipe_detection(frame,holistic)\n",
    "\n",
    "        cv2.imshow('frame',frame)\n",
    "        if cv2.waitKey(1) & 0xFF == ord('q'):\n",
    "            break\n",
    "\n",
    "    cap.release()\n",
    "    cv2.destroyAllWindows()"
   ]
  },
  {
   "cell_type": "markdown",
   "metadata": {},
   "source": [
    "#### GET SEQUENCE AND LABELS FOR MODELS"
   ]
  },
  {
   "cell_type": "code",
   "execution_count": 6,
   "metadata": {},
   "outputs": [
    {
     "data": {
      "text/plain": [
       "{'noshot': 0, 'shot': 1}"
      ]
     },
     "execution_count": 6,
     "metadata": {},
     "output_type": "execute_result"
    }
   ],
   "source": [
    "actions = ['noshot','shot']\n",
    "label_map = {label:num for num,label in enumerate(actions)}\n",
    "label_map"
   ]
  },
  {
   "cell_type": "code",
   "execution_count": 9,
   "metadata": {},
   "outputs": [
    {
     "name": "stdout",
     "output_type": "stream",
     "text": [
      "noshot\n",
      "shot\n"
     ]
    }
   ],
   "source": [
    "sequences,labels = [],[]\n",
    "for action in actions:\n",
    "    print(action)\n",
    "    action_path = Path('shot_detection_images',action)\n",
    "    action_files = [x for x in action_path.glob('*')]\n",
    "    for player_file in action_files:\n",
    "        window = []\n",
    "        if not player_file.is_dir():\n",
    "            continue\n",
    "        for i in range(25):\n",
    "            image_array = np.load(str(Path(player_file,f\"{i}.npy\")))\n",
    "            window.append(image_array)\n",
    "        sequences.append(window)\n",
    "        labels.append(label_map[action])\n",
    "        "
   ]
  },
  {
   "cell_type": "code",
   "execution_count": 16,
   "metadata": {},
   "outputs": [],
   "source": [
    "x = np.array(sequences)\n",
    "y = to_categorical(labels).astype(int)"
   ]
  },
  {
   "cell_type": "code",
   "execution_count": 65,
   "metadata": {},
   "outputs": [],
   "source": [
    "x_train,x_test,y_train,y_test = train_test_split(x,y,test_size=0.2,random_state=42)"
   ]
  },
  {
   "cell_type": "markdown",
   "metadata": {},
   "source": [
    "#### BUILD AND TRAIN LSTM NEURAL NETWORK"
   ]
  },
  {
   "cell_type": "code",
   "execution_count": 66,
   "metadata": {},
   "outputs": [],
   "source": [
    "from tensorflow.keras.models import Sequential\n",
    "from tensorflow.keras.layers import LSTM,Dense\n",
    "from tensorflow.keras.callbacks import TensorBoard"
   ]
  },
  {
   "cell_type": "code",
   "execution_count": 25,
   "metadata": {},
   "outputs": [],
   "source": [
    "log_dir = os.path.join('logs')\n",
    "tb_callback = TensorBoard(log_dir=log_dir)"
   ]
  },
  {
   "cell_type": "code",
   "execution_count": 67,
   "metadata": {},
   "outputs": [
    {
     "name": "stdout",
     "output_type": "stream",
     "text": [
      "Model: \"sequential_5\"\n",
      "_________________________________________________________________\n",
      " Layer (type)                Output Shape              Param #   \n",
      "=================================================================\n",
      " lstm_15 (LSTM)              (None, 25, 64)            442112    \n",
      "                                                                 \n",
      " lstm_16 (LSTM)              (None, 25, 128)           98816     \n",
      "                                                                 \n",
      " lstm_17 (LSTM)              (None, 64)                49408     \n",
      "                                                                 \n",
      " dense_14 (Dense)            (None, 64)                4160      \n",
      "                                                                 \n",
      " dense_15 (Dense)            (None, 32)                2080      \n",
      "                                                                 \n",
      " dense_16 (Dense)            (None, 2)                 66        \n",
      "                                                                 \n",
      "=================================================================\n",
      "Total params: 596,642\n",
      "Trainable params: 596,642\n",
      "Non-trainable params: 0\n",
      "_________________________________________________________________\n"
     ]
    }
   ],
   "source": [
    "model_lstm = Sequential()\n",
    "model_lstm.add(LSTM(64,return_sequences=True,activation='relu',input_shape=(25,1662)))\n",
    "model_lstm.add(LSTM(128,return_sequences=True,activation='relu'))\n",
    "model_lstm.add(LSTM(64,return_sequences=False,activation='relu'))\n",
    "model_lstm.add(Dense(64,activation='relu'))\n",
    "model_lstm.add(Dense(32,activation='relu'))\n",
    "model_lstm.add(Dense(2,activation='softmax'))\n",
    "model_lstm.summary()"
   ]
  },
  {
   "cell_type": "code",
   "execution_count": 68,
   "metadata": {},
   "outputs": [],
   "source": [
    "model_lstm.compile(loss='binary_crossentropy',optimizer='adam',metrics=['accuracy'])"
   ]
  },
  {
   "cell_type": "code",
   "execution_count": 70,
   "metadata": {},
   "outputs": [
    {
     "name": "stdout",
     "output_type": "stream",
     "text": [
      "Epoch 1/150\n",
      "1/1 [==============================] - 0s 299ms/step - loss: 4.9714 - accuracy: 0.8182\n",
      "Epoch 2/150\n",
      "1/1 [==============================] - 0s 90ms/step - loss: 3.0235 - accuracy: 0.8182\n",
      "Epoch 3/150\n",
      "1/1 [==============================] - 0s 87ms/step - loss: 3.9717 - accuracy: 0.8182\n",
      "Epoch 4/150\n",
      "1/1 [==============================] - 0s 88ms/step - loss: 5.0189 - accuracy: 0.8182\n",
      "Epoch 5/150\n",
      "1/1 [==============================] - 0s 103ms/step - loss: 9.0743 - accuracy: 0.6818\n",
      "Epoch 6/150\n",
      "1/1 [==============================] - 0s 119ms/step - loss: 1.5969 - accuracy: 0.9091\n",
      "Epoch 7/150\n",
      "1/1 [==============================] - 0s 133ms/step - loss: 0.9221 - accuracy: 0.9545\n",
      "Epoch 8/150\n",
      "1/1 [==============================] - 0s 123ms/step - loss: 2.5179 - accuracy: 0.9091\n",
      "Epoch 9/150\n",
      "1/1 [==============================] - 0s 118ms/step - loss: 4.6720 - accuracy: 0.9091\n",
      "Epoch 10/150\n",
      "1/1 [==============================] - 0s 140ms/step - loss: 7.3137 - accuracy: 0.8636\n",
      "Epoch 11/150\n",
      "1/1 [==============================] - 0s 111ms/step - loss: 1.8690 - accuracy: 0.9545\n",
      "Epoch 12/150\n",
      "1/1 [==============================] - 0s 122ms/step - loss: 2.7354 - accuracy: 0.9091\n",
      "Epoch 13/150\n",
      "1/1 [==============================] - 0s 118ms/step - loss: 3.0332 - accuracy: 0.8636\n",
      "Epoch 14/150\n",
      "1/1 [==============================] - 0s 104ms/step - loss: 5.8579 - accuracy: 0.8636\n",
      "Epoch 15/150\n",
      "1/1 [==============================] - 0s 108ms/step - loss: 2.1293 - accuracy: 0.9091\n",
      "Epoch 16/150\n",
      "1/1 [==============================] - 0s 97ms/step - loss: 4.7662 - accuracy: 0.7727\n",
      "Epoch 17/150\n",
      "1/1 [==============================] - 0s 97ms/step - loss: 44.1449 - accuracy: 0.6364\n",
      "Epoch 18/150\n",
      "1/1 [==============================] - 0s 92ms/step - loss: 35.8422 - accuracy: 0.7273\n",
      "Epoch 19/150\n",
      "1/1 [==============================] - 0s 98ms/step - loss: 12.8131 - accuracy: 0.7727\n",
      "Epoch 20/150\n",
      "1/1 [==============================] - 0s 92ms/step - loss: 1.5186 - accuracy: 0.9545\n",
      "Epoch 21/150\n",
      "1/1 [==============================] - 0s 107ms/step - loss: 2.0173 - accuracy: 0.9545\n",
      "Epoch 22/150\n",
      "1/1 [==============================] - 0s 151ms/step - loss: 3.2868 - accuracy: 0.9091\n",
      "Epoch 23/150\n",
      "1/1 [==============================] - 0s 135ms/step - loss: 4.0396 - accuracy: 0.7727\n",
      "Epoch 24/150\n",
      "1/1 [==============================] - 0s 102ms/step - loss: 4.7375 - accuracy: 0.6364\n",
      "Epoch 25/150\n",
      "1/1 [==============================] - 0s 101ms/step - loss: 4.2845 - accuracy: 0.6364\n",
      "Epoch 26/150\n",
      "1/1 [==============================] - 0s 107ms/step - loss: 6.1121 - accuracy: 0.5909\n",
      "Epoch 27/150\n",
      "1/1 [==============================] - 0s 102ms/step - loss: 8.1054 - accuracy: 0.5909\n",
      "Epoch 28/150\n",
      "1/1 [==============================] - 0s 105ms/step - loss: 6.9734 - accuracy: 0.5455\n",
      "Epoch 29/150\n",
      "1/1 [==============================] - 0s 107ms/step - loss: 3.6558 - accuracy: 0.6818\n",
      "Epoch 30/150\n",
      "1/1 [==============================] - 0s 111ms/step - loss: 1.7885 - accuracy: 0.8182\n",
      "Epoch 31/150\n",
      "1/1 [==============================] - 0s 102ms/step - loss: 4.2303 - accuracy: 0.9091\n",
      "Epoch 32/150\n",
      "1/1 [==============================] - 0s 102ms/step - loss: 1.6441 - accuracy: 0.9545\n",
      "Epoch 33/150\n",
      "1/1 [==============================] - 0s 104ms/step - loss: 3.4632 - accuracy: 0.7727\n",
      "Epoch 34/150\n",
      "1/1 [==============================] - 0s 104ms/step - loss: 3.0730 - accuracy: 0.8182\n",
      "Epoch 35/150\n",
      "1/1 [==============================] - 0s 101ms/step - loss: 2.4416 - accuracy: 0.7727\n",
      "Epoch 36/150\n",
      "1/1 [==============================] - 0s 109ms/step - loss: 2.0082 - accuracy: 0.8182\n",
      "Epoch 37/150\n",
      "1/1 [==============================] - 0s 105ms/step - loss: 2.0244 - accuracy: 0.8182\n",
      "Epoch 38/150\n",
      "1/1 [==============================] - 0s 109ms/step - loss: 1.5913 - accuracy: 0.9091\n",
      "Epoch 39/150\n",
      "1/1 [==============================] - 0s 100ms/step - loss: 2.6521 - accuracy: 0.8636\n",
      "Epoch 40/150\n",
      "1/1 [==============================] - 0s 102ms/step - loss: 4.1411 - accuracy: 0.7273\n",
      "Epoch 41/150\n",
      "1/1 [==============================] - 0s 99ms/step - loss: 3.3324 - accuracy: 0.7273\n",
      "Epoch 42/150\n",
      "1/1 [==============================] - 0s 107ms/step - loss: 2.5316 - accuracy: 0.7727\n",
      "Epoch 43/150\n",
      "1/1 [==============================] - 0s 112ms/step - loss: 2.7246 - accuracy: 0.6818\n",
      "Epoch 44/150\n",
      "1/1 [==============================] - 0s 100ms/step - loss: 2.8987 - accuracy: 0.7273\n",
      "Epoch 45/150\n",
      "1/1 [==============================] - 0s 133ms/step - loss: 3.1427 - accuracy: 0.7727\n",
      "Epoch 46/150\n",
      "1/1 [==============================] - 0s 120ms/step - loss: 2.1265 - accuracy: 0.7727\n",
      "Epoch 47/150\n",
      "1/1 [==============================] - 0s 101ms/step - loss: 2.2087 - accuracy: 0.7273\n",
      "Epoch 48/150\n",
      "1/1 [==============================] - 0s 98ms/step - loss: 1.5769 - accuracy: 0.7727\n",
      "Epoch 49/150\n",
      "1/1 [==============================] - 0s 99ms/step - loss: 1.3581 - accuracy: 0.7727\n",
      "Epoch 50/150\n",
      "1/1 [==============================] - 0s 113ms/step - loss: 1.7113 - accuracy: 0.7727\n",
      "Epoch 51/150\n",
      "1/1 [==============================] - 0s 99ms/step - loss: 1.0704 - accuracy: 0.7727\n",
      "Epoch 52/150\n",
      "1/1 [==============================] - 0s 97ms/step - loss: 0.7364 - accuracy: 0.8182\n",
      "Epoch 53/150\n",
      "1/1 [==============================] - 0s 104ms/step - loss: 0.6035 - accuracy: 0.9091\n",
      "Epoch 54/150\n",
      "1/1 [==============================] - 0s 120ms/step - loss: 0.7227 - accuracy: 0.8636\n",
      "Epoch 55/150\n",
      "1/1 [==============================] - 0s 103ms/step - loss: 1.6399 - accuracy: 0.7273\n",
      "Epoch 56/150\n",
      "1/1 [==============================] - 0s 102ms/step - loss: 1.0922 - accuracy: 0.7727\n",
      "Epoch 57/150\n",
      "1/1 [==============================] - 0s 115ms/step - loss: 0.5259 - accuracy: 0.7727\n",
      "Epoch 58/150\n",
      "1/1 [==============================] - 0s 103ms/step - loss: 0.6867 - accuracy: 0.7727\n",
      "Epoch 59/150\n",
      "1/1 [==============================] - 0s 104ms/step - loss: 0.8479 - accuracy: 0.8182\n",
      "Epoch 60/150\n",
      "1/1 [==============================] - 0s 103ms/step - loss: 0.6590 - accuracy: 0.7727\n",
      "Epoch 61/150\n",
      "1/1 [==============================] - 0s 97ms/step - loss: 0.7081 - accuracy: 0.7727\n",
      "Epoch 62/150\n",
      "1/1 [==============================] - 0s 94ms/step - loss: 0.6961 - accuracy: 0.7727\n",
      "Epoch 63/150\n",
      "1/1 [==============================] - 0s 100ms/step - loss: 0.6926 - accuracy: 0.7727\n",
      "Epoch 64/150\n",
      "1/1 [==============================] - 0s 93ms/step - loss: 0.6837 - accuracy: 0.7727\n",
      "Epoch 65/150\n",
      "1/1 [==============================] - 0s 95ms/step - loss: 0.5278 - accuracy: 0.7727\n",
      "Epoch 66/150\n",
      "1/1 [==============================] - 0s 101ms/step - loss: 0.3694 - accuracy: 0.8182\n",
      "Epoch 67/150\n",
      "1/1 [==============================] - 0s 153ms/step - loss: 0.3177 - accuracy: 0.8182\n",
      "Epoch 68/150\n",
      "1/1 [==============================] - 0s 119ms/step - loss: 0.2418 - accuracy: 0.9091\n",
      "Epoch 69/150\n",
      "1/1 [==============================] - 0s 105ms/step - loss: 0.1704 - accuracy: 0.9091\n",
      "Epoch 70/150\n",
      "1/1 [==============================] - 0s 101ms/step - loss: 0.1202 - accuracy: 0.9545\n",
      "Epoch 71/150\n",
      "1/1 [==============================] - 0s 95ms/step - loss: 0.0981 - accuracy: 0.9545\n",
      "Epoch 72/150\n",
      "1/1 [==============================] - 0s 105ms/step - loss: 0.0900 - accuracy: 1.0000\n",
      "Epoch 73/150\n",
      "1/1 [==============================] - 0s 100ms/step - loss: 0.0824 - accuracy: 1.0000\n",
      "Epoch 74/150\n",
      "1/1 [==============================] - 0s 93ms/step - loss: 0.0735 - accuracy: 1.0000\n",
      "Epoch 75/150\n",
      "1/1 [==============================] - 0s 108ms/step - loss: 0.0624 - accuracy: 1.0000\n",
      "Epoch 76/150\n",
      "1/1 [==============================] - 0s 101ms/step - loss: 0.0530 - accuracy: 1.0000\n",
      "Epoch 77/150\n",
      "1/1 [==============================] - 0s 102ms/step - loss: 0.0467 - accuracy: 1.0000\n",
      "Epoch 78/150\n",
      "1/1 [==============================] - 0s 103ms/step - loss: 0.0431 - accuracy: 1.0000\n",
      "Epoch 79/150\n",
      "1/1 [==============================] - 0s 99ms/step - loss: 0.0409 - accuracy: 1.0000\n",
      "Epoch 80/150\n",
      "1/1 [==============================] - 0s 104ms/step - loss: 0.0393 - accuracy: 1.0000\n",
      "Epoch 81/150\n",
      "1/1 [==============================] - 0s 101ms/step - loss: 0.0377 - accuracy: 1.0000\n",
      "Epoch 82/150\n",
      "1/1 [==============================] - 0s 97ms/step - loss: 0.0359 - accuracy: 1.0000\n",
      "Epoch 83/150\n",
      "1/1 [==============================] - 0s 94ms/step - loss: 0.0342 - accuracy: 1.0000\n",
      "Epoch 84/150\n",
      "1/1 [==============================] - 0s 98ms/step - loss: 0.0324 - accuracy: 1.0000\n",
      "Epoch 85/150\n",
      "1/1 [==============================] - 0s 106ms/step - loss: 0.0306 - accuracy: 1.0000\n",
      "Epoch 86/150\n",
      "1/1 [==============================] - 0s 117ms/step - loss: 0.0289 - accuracy: 1.0000\n",
      "Epoch 87/150\n",
      "1/1 [==============================] - 0s 112ms/step - loss: 0.0273 - accuracy: 1.0000\n",
      "Epoch 88/150\n",
      "1/1 [==============================] - 0s 107ms/step - loss: 0.0258 - accuracy: 1.0000\n",
      "Epoch 89/150\n",
      "1/1 [==============================] - 0s 151ms/step - loss: 0.0244 - accuracy: 1.0000\n",
      "Epoch 90/150\n",
      "1/1 [==============================] - 0s 106ms/step - loss: 0.0230 - accuracy: 1.0000\n",
      "Epoch 91/150\n",
      "1/1 [==============================] - 0s 102ms/step - loss: 0.0218 - accuracy: 1.0000\n",
      "Epoch 92/150\n",
      "1/1 [==============================] - 0s 102ms/step - loss: 0.0206 - accuracy: 1.0000\n",
      "Epoch 93/150\n",
      "1/1 [==============================] - 0s 104ms/step - loss: 0.0195 - accuracy: 1.0000\n",
      "Epoch 94/150\n",
      "1/1 [==============================] - 0s 103ms/step - loss: 0.0184 - accuracy: 1.0000\n",
      "Epoch 95/150\n",
      "1/1 [==============================] - 0s 96ms/step - loss: 0.0174 - accuracy: 1.0000\n",
      "Epoch 96/150\n",
      "1/1 [==============================] - 0s 92ms/step - loss: 0.0165 - accuracy: 1.0000\n",
      "Epoch 97/150\n",
      "1/1 [==============================] - 0s 93ms/step - loss: 0.0157 - accuracy: 1.0000\n",
      "Epoch 98/150\n",
      "1/1 [==============================] - 0s 96ms/step - loss: 0.0148 - accuracy: 1.0000\n",
      "Epoch 99/150\n",
      "1/1 [==============================] - 0s 104ms/step - loss: 0.0140 - accuracy: 1.0000\n",
      "Epoch 100/150\n",
      "1/1 [==============================] - 0s 96ms/step - loss: 0.0132 - accuracy: 1.0000\n",
      "Epoch 101/150\n",
      "1/1 [==============================] - 0s 94ms/step - loss: 0.0125 - accuracy: 1.0000\n",
      "Epoch 102/150\n",
      "1/1 [==============================] - 0s 99ms/step - loss: 0.0117 - accuracy: 1.0000\n",
      "Epoch 103/150\n",
      "1/1 [==============================] - 0s 111ms/step - loss: 0.0110 - accuracy: 1.0000\n",
      "Epoch 104/150\n",
      "1/1 [==============================] - 0s 117ms/step - loss: 0.0103 - accuracy: 1.0000\n",
      "Epoch 105/150\n",
      "1/1 [==============================] - 0s 133ms/step - loss: 0.0097 - accuracy: 1.0000\n",
      "Epoch 106/150\n",
      "1/1 [==============================] - 0s 110ms/step - loss: 0.0092 - accuracy: 1.0000\n",
      "Epoch 107/150\n",
      "1/1 [==============================] - 0s 104ms/step - loss: 0.0087 - accuracy: 1.0000\n",
      "Epoch 108/150\n",
      "1/1 [==============================] - 0s 101ms/step - loss: 0.0083 - accuracy: 1.0000\n",
      "Epoch 109/150\n",
      "1/1 [==============================] - 0s 98ms/step - loss: 0.0080 - accuracy: 1.0000\n",
      "Epoch 110/150\n",
      "1/1 [==============================] - 0s 103ms/step - loss: 0.0076 - accuracy: 1.0000\n",
      "Epoch 111/150\n",
      "1/1 [==============================] - 0s 162ms/step - loss: 0.0073 - accuracy: 1.0000\n",
      "Epoch 112/150\n",
      "1/1 [==============================] - 0s 110ms/step - loss: 0.0069 - accuracy: 1.0000\n",
      "Epoch 113/150\n",
      "1/1 [==============================] - 0s 104ms/step - loss: 0.0066 - accuracy: 1.0000\n",
      "Epoch 114/150\n",
      "1/1 [==============================] - 0s 103ms/step - loss: 0.0062 - accuracy: 1.0000\n",
      "Epoch 115/150\n",
      "1/1 [==============================] - 0s 116ms/step - loss: 0.0059 - accuracy: 1.0000\n",
      "Epoch 116/150\n",
      "1/1 [==============================] - 0s 105ms/step - loss: 0.0056 - accuracy: 1.0000\n",
      "Epoch 117/150\n",
      "1/1 [==============================] - 0s 98ms/step - loss: 0.0053 - accuracy: 1.0000\n",
      "Epoch 118/150\n",
      "1/1 [==============================] - 0s 103ms/step - loss: 0.0050 - accuracy: 1.0000\n",
      "Epoch 119/150\n",
      "1/1 [==============================] - 0s 104ms/step - loss: 0.0048 - accuracy: 1.0000\n",
      "Epoch 120/150\n",
      "1/1 [==============================] - 0s 96ms/step - loss: 0.0046 - accuracy: 1.0000\n",
      "Epoch 121/150\n",
      "1/1 [==============================] - 0s 95ms/step - loss: 0.0044 - accuracy: 1.0000\n",
      "Epoch 122/150\n",
      "1/1 [==============================] - 0s 92ms/step - loss: 0.0042 - accuracy: 1.0000\n",
      "Epoch 123/150\n",
      "1/1 [==============================] - 0s 103ms/step - loss: 0.0040 - accuracy: 1.0000\n",
      "Epoch 124/150\n",
      "1/1 [==============================] - 0s 98ms/step - loss: 0.0038 - accuracy: 1.0000\n",
      "Epoch 125/150\n",
      "1/1 [==============================] - 0s 112ms/step - loss: 0.0036 - accuracy: 1.0000\n",
      "Epoch 126/150\n",
      "1/1 [==============================] - 0s 144ms/step - loss: 0.0034 - accuracy: 1.0000\n",
      "Epoch 127/150\n",
      "1/1 [==============================] - 0s 120ms/step - loss: 0.0032 - accuracy: 1.0000\n",
      "Epoch 128/150\n",
      "1/1 [==============================] - 0s 111ms/step - loss: 0.0030 - accuracy: 1.0000\n",
      "Epoch 129/150\n",
      "1/1 [==============================] - 0s 112ms/step - loss: 0.0029 - accuracy: 1.0000\n",
      "Epoch 130/150\n",
      "1/1 [==============================] - 0s 116ms/step - loss: 0.0027 - accuracy: 1.0000\n",
      "Epoch 131/150\n",
      "1/1 [==============================] - 0s 109ms/step - loss: 0.0026 - accuracy: 1.0000\n",
      "Epoch 132/150\n",
      "1/1 [==============================] - 0s 153ms/step - loss: 0.0025 - accuracy: 1.0000\n",
      "Epoch 133/150\n",
      "1/1 [==============================] - 0s 142ms/step - loss: 0.0023 - accuracy: 1.0000\n",
      "Epoch 134/150\n",
      "1/1 [==============================] - 0s 112ms/step - loss: 0.0022 - accuracy: 1.0000\n",
      "Epoch 135/150\n",
      "1/1 [==============================] - 0s 119ms/step - loss: 0.0021 - accuracy: 1.0000\n",
      "Epoch 136/150\n",
      "1/1 [==============================] - 0s 126ms/step - loss: 0.0020 - accuracy: 1.0000\n",
      "Epoch 137/150\n",
      "1/1 [==============================] - 0s 112ms/step - loss: 0.0018 - accuracy: 1.0000\n",
      "Epoch 138/150\n",
      "1/1 [==============================] - 0s 122ms/step - loss: 0.0017 - accuracy: 1.0000\n",
      "Epoch 139/150\n",
      "1/1 [==============================] - 0s 114ms/step - loss: 0.0016 - accuracy: 1.0000\n",
      "Epoch 140/150\n",
      "1/1 [==============================] - 0s 153ms/step - loss: 0.0015 - accuracy: 1.0000\n",
      "Epoch 141/150\n",
      "1/1 [==============================] - 0s 131ms/step - loss: 0.0014 - accuracy: 1.0000\n",
      "Epoch 142/150\n",
      "1/1 [==============================] - 0s 135ms/step - loss: 0.0014 - accuracy: 1.0000\n",
      "Epoch 143/150\n",
      "1/1 [==============================] - 0s 141ms/step - loss: 0.0013 - accuracy: 1.0000\n",
      "Epoch 144/150\n",
      "1/1 [==============================] - 0s 141ms/step - loss: 0.0012 - accuracy: 1.0000\n",
      "Epoch 145/150\n",
      "1/1 [==============================] - 0s 129ms/step - loss: 0.0011 - accuracy: 1.0000\n",
      "Epoch 146/150\n",
      "1/1 [==============================] - 0s 121ms/step - loss: 0.0011 - accuracy: 1.0000\n",
      "Epoch 147/150\n",
      "1/1 [==============================] - 0s 110ms/step - loss: 0.0010 - accuracy: 1.0000\n",
      "Epoch 148/150\n",
      "1/1 [==============================] - 0s 120ms/step - loss: 9.3517e-04 - accuracy: 1.0000\n",
      "Epoch 149/150\n",
      "1/1 [==============================] - 0s 114ms/step - loss: 8.6805e-04 - accuracy: 1.0000\n",
      "Epoch 150/150\n",
      "1/1 [==============================] - 0s 116ms/step - loss: 8.0370e-04 - accuracy: 1.0000\n"
     ]
    },
    {
     "data": {
      "text/plain": [
       "<keras.callbacks.History at 0x21fc6301930>"
      ]
     },
     "execution_count": 70,
     "metadata": {},
     "output_type": "execute_result"
    }
   ],
   "source": [
    "model_lstm.fit(x_train,y_train,epochs=150,callbacks=[tb_callback])"
   ]
  },
  {
   "cell_type": "code",
   "execution_count": 71,
   "metadata": {},
   "outputs": [
    {
     "data": {
      "text/plain": [
       "(6, 25, 1662)"
      ]
     },
     "execution_count": 71,
     "metadata": {},
     "output_type": "execute_result"
    }
   ],
   "source": [
    "x_test.shape"
   ]
  },
  {
   "cell_type": "code",
   "execution_count": 72,
   "metadata": {},
   "outputs": [
    {
     "name": "stdout",
     "output_type": "stream",
     "text": [
      "1/1 [==============================] - 0s 479ms/step\n"
     ]
    }
   ],
   "source": [
    "y_pred = model_lstm.predict(x_test)"
   ]
  },
  {
   "cell_type": "code",
   "execution_count": 73,
   "metadata": {},
   "outputs": [
    {
     "data": {
      "text/plain": [
       "array([1, 1, 0, 1, 1, 0], dtype=int64)"
      ]
     },
     "execution_count": 73,
     "metadata": {},
     "output_type": "execute_result"
    }
   ],
   "source": [
    "np.argmax(y_pred,axis=1)"
   ]
  },
  {
   "cell_type": "code",
   "execution_count": 74,
   "metadata": {},
   "outputs": [
    {
     "data": {
      "text/plain": [
       "array([[1, 0],\n",
       "       [0, 1],\n",
       "       [1, 0],\n",
       "       [0, 1],\n",
       "       [1, 0],\n",
       "       [1, 0]])"
      ]
     },
     "execution_count": 74,
     "metadata": {},
     "output_type": "execute_result"
    }
   ],
   "source": [
    "y_test"
   ]
  },
  {
   "cell_type": "code",
   "execution_count": 76,
   "metadata": {},
   "outputs": [],
   "source": [
    "from sklearn.metrics import confusion_matrix,accuracy_score"
   ]
  },
  {
   "cell_type": "code",
   "execution_count": 63,
   "metadata": {},
   "outputs": [
    {
     "data": {
      "text/plain": [
       "array([1, 1, 0], dtype=int64)"
      ]
     },
     "execution_count": 63,
     "metadata": {},
     "output_type": "execute_result"
    }
   ],
   "source": [
    "np.argmax(y_pred,axis=1)"
   ]
  },
  {
   "cell_type": "code",
   "execution_count": 78,
   "metadata": {},
   "outputs": [
    {
     "name": "stdout",
     "output_type": "stream",
     "text": [
      "1/1 [==============================] - 0s 187ms/step\n"
     ]
    }
   ],
   "source": [
    "yhat = model.predict(x_train)\n"
   ]
  },
  {
   "cell_type": "code",
   "execution_count": 82,
   "metadata": {},
   "outputs": [],
   "source": [
    "yhat = np.argmax(yhat,axis=1).tolist()"
   ]
  },
  {
   "cell_type": "code",
   "execution_count": 79,
   "metadata": {},
   "outputs": [],
   "source": [
    "y_train = np.argmax(y_train,axis=1).tolist()"
   ]
  },
  {
   "cell_type": "code",
   "execution_count": 83,
   "metadata": {},
   "outputs": [
    {
     "data": {
      "text/plain": [
       "1.0"
      ]
     },
     "execution_count": 83,
     "metadata": {},
     "output_type": "execute_result"
    }
   ],
   "source": [
    "accuracy_score(y_train,yhat)"
   ]
  },
  {
   "cell_type": "code",
   "execution_count": 85,
   "metadata": {},
   "outputs": [],
   "source": [
    "model_lstm.save('shot_detection.h5')"
   ]
  },
  {
   "cell_type": "code",
   "execution_count": 86,
   "metadata": {},
   "outputs": [],
   "source": [
    "del model_lstm"
   ]
  },
  {
   "cell_type": "code",
   "execution_count": 87,
   "metadata": {},
   "outputs": [
    {
     "ename": "AttributeError",
     "evalue": "'Sequential' object has no attribute 'load'",
     "output_type": "error",
     "traceback": [
      "\u001b[1;31m---------------------------------------------------------------------------\u001b[0m",
      "\u001b[1;31mAttributeError\u001b[0m                            Traceback (most recent call last)",
      "\u001b[1;32mc:\\Users\\bkj\\Documents\\GitHub\\projects\\Upwork\\nba-computer-vision\\shot_detection.ipynb Cell 30\u001b[0m line \u001b[0;36m1\n\u001b[1;32m----> <a href='vscode-notebook-cell:/c%3A/Users/bkj/Documents/GitHub/projects/Upwork/nba-computer-vision/shot_detection.ipynb#X15sZmlsZQ%3D%3D?line=0'>1</a>\u001b[0m model\u001b[39m.\u001b[39;49mload(\u001b[39m'\u001b[39m\u001b[39mshot_detection.h5\u001b[39m\u001b[39m'\u001b[39m)\n",
      "\u001b[1;31mAttributeError\u001b[0m: 'Sequential' object has no attribute 'load'"
     ]
    }
   ],
   "source": [
    "model.load('shot_detection.h5')"
   ]
  }
 ],
 "metadata": {
  "kernelspec": {
   "display_name": "tfod",
   "language": "python",
   "name": "tfod"
  },
  "language_info": {
   "codemirror_mode": {
    "name": "ipython",
    "version": 3
   },
   "file_extension": ".py",
   "mimetype": "text/x-python",
   "name": "python",
   "nbconvert_exporter": "python",
   "pygments_lexer": "ipython3",
   "version": "3.10.2"
  }
 },
 "nbformat": 4,
 "nbformat_minor": 2
}
