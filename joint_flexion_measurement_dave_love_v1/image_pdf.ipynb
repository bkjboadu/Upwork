{
 "cells": [
  {
   "cell_type": "code",
   "execution_count": 4,
   "metadata": {},
   "outputs": [
    {
     "ename": "AttributeError",
     "evalue": "'_io.BytesIO' object has no attribute 'format'",
     "output_type": "error",
     "traceback": [
      "\u001b[1;31m---------------------------------------------------------------------------\u001b[0m",
      "\u001b[1;31mAttributeError\u001b[0m                            Traceback (most recent call last)",
      "\u001b[1;32mc:\\Users\\bkj\\Documents\\GitHub\\projects\\Upwork\\nba-computer-vision\\image_pdf.ipynb Cell 1\u001b[0m line \u001b[0;36m3\n\u001b[0;32m     <a href='vscode-notebook-cell:/c%3A/Users/bkj/Documents/GitHub/projects/Upwork/nba-computer-vision/image_pdf.ipynb#W0sZmlsZQ%3D%3D?line=26'>27</a>\u001b[0m plt\u001b[39m.\u001b[39mclose()\n\u001b[0;32m     <a href='vscode-notebook-cell:/c%3A/Users/bkj/Documents/GitHub/projects/Upwork/nba-computer-vision/image_pdf.ipynb#W0sZmlsZQ%3D%3D?line=28'>29</a>\u001b[0m \u001b[39m# Add the graph to the PDF\u001b[39;00m\n\u001b[1;32m---> <a href='vscode-notebook-cell:/c%3A/Users/bkj/Documents/GitHub/projects/Upwork/nba-computer-vision/image_pdf.ipynb#W0sZmlsZQ%3D%3D?line=29'>30</a>\u001b[0m pdf_canvas\u001b[39m.\u001b[39;49mdrawInlineImage(graph_buffer, \u001b[39m100\u001b[39;49m, \u001b[39m300\u001b[39;49m, width\u001b[39m=\u001b[39;49m\u001b[39m400\u001b[39;49m, height\u001b[39m=\u001b[39;49m\u001b[39m200\u001b[39;49m)\n\u001b[0;32m     <a href='vscode-notebook-cell:/c%3A/Users/bkj/Documents/GitHub/projects/Upwork/nba-computer-vision/image_pdf.ipynb#W0sZmlsZQ%3D%3D?line=31'>32</a>\u001b[0m \u001b[39m# Save the PDF\u001b[39;00m\n\u001b[0;32m     <a href='vscode-notebook-cell:/c%3A/Users/bkj/Documents/GitHub/projects/Upwork/nba-computer-vision/image_pdf.ipynb#W0sZmlsZQ%3D%3D?line=32'>33</a>\u001b[0m pdf_canvas\u001b[39m.\u001b[39msave()\n",
      "File \u001b[1;32mc:\\Users\\bkj\\AppData\\Local\\Programs\\Python\\Python310\\lib\\site-packages\\reportlab\\pdfgen\\canvas.py:894\u001b[0m, in \u001b[0;36mCanvas.drawInlineImage\u001b[1;34m(self, image, x, y, width, height, preserveAspectRatio, anchor, anchorAtXY, showBoundary, extraReturn)\u001b[0m\n\u001b[0;32m    892\u001b[0m \u001b[39mself\u001b[39m\u001b[39m.\u001b[39m_currentPageHasImages \u001b[39m=\u001b[39m \u001b[39m1\u001b[39m\n\u001b[0;32m    893\u001b[0m \u001b[39mfrom\u001b[39;00m \u001b[39mreportlab\u001b[39;00m\u001b[39m.\u001b[39;00m\u001b[39mpdfgen\u001b[39;00m\u001b[39m.\u001b[39;00m\u001b[39mpdfimages\u001b[39;00m \u001b[39mimport\u001b[39;00m PDFImage\n\u001b[1;32m--> 894\u001b[0m img_obj \u001b[39m=\u001b[39m PDFImage(image, x,y, width, height)\n\u001b[0;32m    895\u001b[0m img_obj\u001b[39m.\u001b[39mdrawInlineImage(\u001b[39mself\u001b[39m,\n\u001b[0;32m    896\u001b[0m     preserveAspectRatio\u001b[39m=\u001b[39mpreserveAspectRatio, \n\u001b[0;32m    897\u001b[0m     anchor\u001b[39m=\u001b[39manchor,anchorAtXY\u001b[39m=\u001b[39manchorAtXY,showBoundary\u001b[39m=\u001b[39mshowBoundary,\n\u001b[0;32m    898\u001b[0m     extraReturn\u001b[39m=\u001b[39mextraReturn)\n\u001b[0;32m    899\u001b[0m \u001b[39mreturn\u001b[39;00m (img_obj\u001b[39m.\u001b[39mwidth, img_obj\u001b[39m.\u001b[39mheight)\n",
      "File \u001b[1;32mc:\\Users\\bkj\\AppData\\Local\\Programs\\Python\\Python310\\lib\\site-packages\\reportlab\\pdfgen\\pdfimages.py:40\u001b[0m, in \u001b[0;36mPDFImage.__init__\u001b[1;34m(self, image, x, y, width, height, caching)\u001b[0m\n\u001b[0;32m     38\u001b[0m \u001b[39mself\u001b[39m\u001b[39m.\u001b[39mfilters \u001b[39m=\u001b[39m []\n\u001b[0;32m     39\u001b[0m \u001b[39mself\u001b[39m\u001b[39m.\u001b[39msource \u001b[39m=\u001b[39m \u001b[39mNone\u001b[39;00m \u001b[39m# JPEG or PIL, set later\u001b[39;00m\n\u001b[1;32m---> 40\u001b[0m \u001b[39mself\u001b[39;49m\u001b[39m.\u001b[39;49mgetImageData()\n",
      "File \u001b[1;32mc:\\Users\\bkj\\AppData\\Local\\Programs\\Python\\Python310\\lib\\site-packages\\reportlab\\pdfgen\\pdfimages.py:156\u001b[0m, in \u001b[0;36mPDFImage.getImageData\u001b[1;34m(self, preserveAspectRatio)\u001b[0m\n\u001b[0;32m    154\u001b[0m         imagedata, imgwidth, imgheight \u001b[39m=\u001b[39m \u001b[39mself\u001b[39m\u001b[39m.\u001b[39mnon_jpg_imagedata(image)\n\u001b[0;32m    155\u001b[0m \u001b[39melse\u001b[39;00m:\n\u001b[1;32m--> 156\u001b[0m     imagedata, imgwidth, imgheight \u001b[39m=\u001b[39m \u001b[39mself\u001b[39;49m\u001b[39m.\u001b[39;49mPIL_imagedata()\n\u001b[0;32m    157\u001b[0m \u001b[39mself\u001b[39m\u001b[39m.\u001b[39mimageData \u001b[39m=\u001b[39m imagedata\n\u001b[0;32m    158\u001b[0m \u001b[39mself\u001b[39m\u001b[39m.\u001b[39mimgwidth \u001b[39m=\u001b[39m imgwidth\n",
      "File \u001b[1;32mc:\\Users\\bkj\\AppData\\Local\\Programs\\Python\\Python310\\lib\\site-packages\\reportlab\\pdfgen\\pdfimages.py:89\u001b[0m, in \u001b[0;36mPDFImage.PIL_imagedata\u001b[1;34m(self)\u001b[0m\n\u001b[0;32m     87\u001b[0m \u001b[39mimport\u001b[39;00m \u001b[39mzlib\u001b[39;00m\n\u001b[0;32m     88\u001b[0m image \u001b[39m=\u001b[39m \u001b[39mself\u001b[39m\u001b[39m.\u001b[39mimage\n\u001b[1;32m---> 89\u001b[0m \u001b[39mif\u001b[39;00m image\u001b[39m.\u001b[39;49mformat\u001b[39m==\u001b[39m\u001b[39m'\u001b[39m\u001b[39mJPEG\u001b[39m\u001b[39m'\u001b[39m:\n\u001b[0;32m     90\u001b[0m     fp\u001b[39m=\u001b[39mimage\u001b[39m.\u001b[39mfp\n\u001b[0;32m     91\u001b[0m     fp\u001b[39m.\u001b[39mseek(\u001b[39m0\u001b[39m)\n",
      "\u001b[1;31mAttributeError\u001b[0m: '_io.BytesIO' object has no attribute 'format'"
     ]
    }
   ],
   "source": [
    "from reportlab.lib.pagesizes import letter\n",
    "from reportlab.pdfgen import canvas\n",
    "import matplotlib.pyplot as plt\n",
    "from io import BytesIO\n",
    "\n",
    "# Create a PDF document\n",
    "pdf_buffer = BytesIO()\n",
    "pdf_canvas = canvas.Canvas(pdf_buffer, pagesize=letter)\n",
    "\n",
    "# Add text to the PDF\n",
    "pdf_canvas.drawString(100, 750, \"Hello, this is a PDF document!\")\n",
    "\n",
    "# Add an image to the PDF\n",
    "image_path = \"output_image.png\"\n",
    "pdf_canvas.drawInlineImage(image_path, 100, 500, width=200, height=100)\n",
    "\n",
    "# Create a simple graph using Matplotlib\n",
    "data = [1, 2, 3, 4, 5]\n",
    "plt.plot(data)\n",
    "plt.title(\"Sample Graph\")\n",
    "plt.xlabel(\"X-axis\")\n",
    "plt.ylabel(\"Y-axis\")\n",
    "\n",
    "# Save the Matplotlib graph to BytesIO buffer\n",
    "graph_buffer = BytesIO()\n",
    "plt.savefig(graph_buffer, format=\"png\")\n",
    "plt.close()\n",
    "\n",
    "# Add the graph to the PDF\n",
    "pdf_canvas.drawInlineImage(graph_buffer, 100, 300, width=400, height=200)\n",
    "\n",
    "# Save the PDF\n",
    "pdf_canvas.save()\n",
    "\n",
    "# Reset the buffer position before reading\n",
    "pdf_buffer.seek(0)\n",
    "\n",
    "# Write the PDF to a file\n",
    "with open(\"output.pdf\", \"wb\") as pdf_file:\n",
    "    pdf_file.write(pdf_buffer.read())\n"
   ]
  },
  {
   "cell_type": "code",
   "execution_count": 6,
   "metadata": {},
   "outputs": [
    {
     "ename": "AttributeError",
     "evalue": "'_io.BytesIO' object has no attribute 'format'",
     "output_type": "error",
     "traceback": [
      "\u001b[1;31m---------------------------------------------------------------------------\u001b[0m",
      "\u001b[1;31mAttributeError\u001b[0m                            Traceback (most recent call last)",
      "\u001b[1;32mc:\\Users\\bkj\\Documents\\GitHub\\projects\\Upwork\\nba-computer-vision\\image_pdf.ipynb Cell 2\u001b[0m line \u001b[0;36m3\n\u001b[0;32m     <a href='vscode-notebook-cell:/c%3A/Users/bkj/Documents/GitHub/projects/Upwork/nba-computer-vision/image_pdf.ipynb#W1sZmlsZQ%3D%3D?line=26'>27</a>\u001b[0m plt\u001b[39m.\u001b[39mclose()\n\u001b[0;32m     <a href='vscode-notebook-cell:/c%3A/Users/bkj/Documents/GitHub/projects/Upwork/nba-computer-vision/image_pdf.ipynb#W1sZmlsZQ%3D%3D?line=28'>29</a>\u001b[0m \u001b[39m# Add the graph to the PDF with explicit format\u001b[39;00m\n\u001b[1;32m---> <a href='vscode-notebook-cell:/c%3A/Users/bkj/Documents/GitHub/projects/Upwork/nba-computer-vision/image_pdf.ipynb#W1sZmlsZQ%3D%3D?line=29'>30</a>\u001b[0m pdf_canvas\u001b[39m.\u001b[39;49mdrawInlineImage(graph_buffer, \u001b[39m100\u001b[39;49m, \u001b[39m300\u001b[39;49m, width\u001b[39m=\u001b[39;49m\u001b[39m400\u001b[39;49m, height\u001b[39m=\u001b[39;49m\u001b[39m200\u001b[39;49m, preserveAspectRatio\u001b[39m=\u001b[39;49m\u001b[39mTrue\u001b[39;49;00m)\n\u001b[0;32m     <a href='vscode-notebook-cell:/c%3A/Users/bkj/Documents/GitHub/projects/Upwork/nba-computer-vision/image_pdf.ipynb#W1sZmlsZQ%3D%3D?line=31'>32</a>\u001b[0m \u001b[39m# Save the PDF\u001b[39;00m\n\u001b[0;32m     <a href='vscode-notebook-cell:/c%3A/Users/bkj/Documents/GitHub/projects/Upwork/nba-computer-vision/image_pdf.ipynb#W1sZmlsZQ%3D%3D?line=32'>33</a>\u001b[0m pdf_canvas\u001b[39m.\u001b[39msave()\n",
      "File \u001b[1;32mc:\\Users\\bkj\\AppData\\Local\\Programs\\Python\\Python310\\lib\\site-packages\\reportlab\\pdfgen\\canvas.py:894\u001b[0m, in \u001b[0;36mCanvas.drawInlineImage\u001b[1;34m(self, image, x, y, width, height, preserveAspectRatio, anchor, anchorAtXY, showBoundary, extraReturn)\u001b[0m\n\u001b[0;32m    892\u001b[0m \u001b[39mself\u001b[39m\u001b[39m.\u001b[39m_currentPageHasImages \u001b[39m=\u001b[39m \u001b[39m1\u001b[39m\n\u001b[0;32m    893\u001b[0m \u001b[39mfrom\u001b[39;00m \u001b[39mreportlab\u001b[39;00m\u001b[39m.\u001b[39;00m\u001b[39mpdfgen\u001b[39;00m\u001b[39m.\u001b[39;00m\u001b[39mpdfimages\u001b[39;00m \u001b[39mimport\u001b[39;00m PDFImage\n\u001b[1;32m--> 894\u001b[0m img_obj \u001b[39m=\u001b[39m PDFImage(image, x,y, width, height)\n\u001b[0;32m    895\u001b[0m img_obj\u001b[39m.\u001b[39mdrawInlineImage(\u001b[39mself\u001b[39m,\n\u001b[0;32m    896\u001b[0m     preserveAspectRatio\u001b[39m=\u001b[39mpreserveAspectRatio, \n\u001b[0;32m    897\u001b[0m     anchor\u001b[39m=\u001b[39manchor,anchorAtXY\u001b[39m=\u001b[39manchorAtXY,showBoundary\u001b[39m=\u001b[39mshowBoundary,\n\u001b[0;32m    898\u001b[0m     extraReturn\u001b[39m=\u001b[39mextraReturn)\n\u001b[0;32m    899\u001b[0m \u001b[39mreturn\u001b[39;00m (img_obj\u001b[39m.\u001b[39mwidth, img_obj\u001b[39m.\u001b[39mheight)\n",
      "File \u001b[1;32mc:\\Users\\bkj\\AppData\\Local\\Programs\\Python\\Python310\\lib\\site-packages\\reportlab\\pdfgen\\pdfimages.py:40\u001b[0m, in \u001b[0;36mPDFImage.__init__\u001b[1;34m(self, image, x, y, width, height, caching)\u001b[0m\n\u001b[0;32m     38\u001b[0m \u001b[39mself\u001b[39m\u001b[39m.\u001b[39mfilters \u001b[39m=\u001b[39m []\n\u001b[0;32m     39\u001b[0m \u001b[39mself\u001b[39m\u001b[39m.\u001b[39msource \u001b[39m=\u001b[39m \u001b[39mNone\u001b[39;00m \u001b[39m# JPEG or PIL, set later\u001b[39;00m\n\u001b[1;32m---> 40\u001b[0m \u001b[39mself\u001b[39;49m\u001b[39m.\u001b[39;49mgetImageData()\n",
      "File \u001b[1;32mc:\\Users\\bkj\\AppData\\Local\\Programs\\Python\\Python310\\lib\\site-packages\\reportlab\\pdfgen\\pdfimages.py:156\u001b[0m, in \u001b[0;36mPDFImage.getImageData\u001b[1;34m(self, preserveAspectRatio)\u001b[0m\n\u001b[0;32m    154\u001b[0m         imagedata, imgwidth, imgheight \u001b[39m=\u001b[39m \u001b[39mself\u001b[39m\u001b[39m.\u001b[39mnon_jpg_imagedata(image)\n\u001b[0;32m    155\u001b[0m \u001b[39melse\u001b[39;00m:\n\u001b[1;32m--> 156\u001b[0m     imagedata, imgwidth, imgheight \u001b[39m=\u001b[39m \u001b[39mself\u001b[39;49m\u001b[39m.\u001b[39;49mPIL_imagedata()\n\u001b[0;32m    157\u001b[0m \u001b[39mself\u001b[39m\u001b[39m.\u001b[39mimageData \u001b[39m=\u001b[39m imagedata\n\u001b[0;32m    158\u001b[0m \u001b[39mself\u001b[39m\u001b[39m.\u001b[39mimgwidth \u001b[39m=\u001b[39m imgwidth\n",
      "File \u001b[1;32mc:\\Users\\bkj\\AppData\\Local\\Programs\\Python\\Python310\\lib\\site-packages\\reportlab\\pdfgen\\pdfimages.py:89\u001b[0m, in \u001b[0;36mPDFImage.PIL_imagedata\u001b[1;34m(self)\u001b[0m\n\u001b[0;32m     87\u001b[0m \u001b[39mimport\u001b[39;00m \u001b[39mzlib\u001b[39;00m\n\u001b[0;32m     88\u001b[0m image \u001b[39m=\u001b[39m \u001b[39mself\u001b[39m\u001b[39m.\u001b[39mimage\n\u001b[1;32m---> 89\u001b[0m \u001b[39mif\u001b[39;00m image\u001b[39m.\u001b[39;49mformat\u001b[39m==\u001b[39m\u001b[39m'\u001b[39m\u001b[39mJPEG\u001b[39m\u001b[39m'\u001b[39m:\n\u001b[0;32m     90\u001b[0m     fp\u001b[39m=\u001b[39mimage\u001b[39m.\u001b[39mfp\n\u001b[0;32m     91\u001b[0m     fp\u001b[39m.\u001b[39mseek(\u001b[39m0\u001b[39m)\n",
      "\u001b[1;31mAttributeError\u001b[0m: '_io.BytesIO' object has no attribute 'format'"
     ]
    }
   ],
   "source": [
    "from reportlab.lib.pagesizes import letter\n",
    "from reportlab.pdfgen import canvas\n",
    "import matplotlib.pyplot as plt\n",
    "from io import BytesIO\n",
    "\n",
    "# Create a PDF document\n",
    "pdf_buffer = BytesIO()\n",
    "pdf_canvas = canvas.Canvas(pdf_buffer, pagesize=letter)\n",
    "\n",
    "# Add text to the PDF\n",
    "pdf_canvas.drawString(100, 750, \"Hello, this is a PDF document!\")\n",
    "\n",
    "# Add an image to the PDF\n",
    "image_path = \"output_image.png\"\n",
    "pdf_canvas.drawInlineImage(image_path, 100, 500, width=200, height=100)\n",
    "\n",
    "# Create a simple graph using Matplotlib\n",
    "data = [1, 2, 3, 4, 5]\n",
    "plt.plot(data)\n",
    "plt.title(\"Sample Graph\")\n",
    "plt.xlabel(\"X-axis\")\n",
    "plt.ylabel(\"Y-axis\")\n",
    "\n",
    "# Save the Matplotlib graph to BytesIO buffer\n",
    "graph_buffer = BytesIO()\n",
    "plt.savefig(graph_buffer, format=\"png\")  # Specify format as 'png'\n",
    "plt.close()\n",
    "\n",
    "# Add the graph to the PDF with explicit format\n",
    "pdf_canvas.drawInlineImage(graph_buffer, 100, 300, width=400, height=200, preserveAspectRatio=True)\n",
    "\n",
    "# Save the PDF\n",
    "pdf_canvas.save()\n",
    "\n",
    "# Reset the buffer position before reading\n",
    "pdf_buffer.seek(0)\n",
    "\n",
    "# Write the PDF to a file\n",
    "with open(\"output.pdf\", \"wb\") as pdf_file:\n",
    "    pdf_file.write(pdf_buffer.read())\n"
   ]
  },
  {
   "cell_type": "code",
   "execution_count": null,
   "metadata": {},
   "outputs": [],
   "source": []
  },
  {
   "cell_type": "code",
   "execution_count": null,
   "metadata": {},
   "outputs": [],
   "source": []
  },
  {
   "cell_type": "code",
   "execution_count": null,
   "metadata": {},
   "outputs": [],
   "source": []
  },
  {
   "cell_type": "code",
   "execution_count": null,
   "metadata": {},
   "outputs": [],
   "source": []
  }
 ],
 "metadata": {
  "kernelspec": {
   "display_name": "tfod",
   "language": "python",
   "name": "tfod"
  },
  "language_info": {
   "codemirror_mode": {
    "name": "ipython",
    "version": 3
   },
   "file_extension": ".py",
   "mimetype": "text/x-python",
   "name": "python",
   "nbconvert_exporter": "python",
   "pygments_lexer": "ipython3",
   "version": "3.10.2"
  }
 },
 "nbformat": 4,
 "nbformat_minor": 2
}
